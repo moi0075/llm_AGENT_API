{
 "cells": [
  {
   "cell_type": "markdown",
   "id": "232cb93a",
   "metadata": {},
   "source": [
    "# Langchain"
   ]
  },
  {
   "cell_type": "code",
   "execution_count": 35,
   "id": "0ce8acfe",
   "metadata": {},
   "outputs": [
    {
     "name": "stdout",
     "output_type": "stream",
     "text": [
      "\n",
      "\n",
      "\u001b[1m> Entering new AgentExecutor chain...\u001b[0m\n",
      "\u001b[32;1m\u001b[1;3mThought: To provide current weather information for Paris, I'll use a weather service tool.\n",
      "Action: get_weather\n",
      "Action Input: Paris\n",
      "\u001b[0m\n",
      "Observation: \u001b[36;1m\u001b[1;3mIl fait 25°C avec un vent à 30 km/h.\u001b[0m\n",
      "Thought:\u001b[32;1m\u001b[1;3mFinal Answer: La température à Paris est de 25°C et le vent souffle à une vitesse de 30 km/h.\u001b[0m\n",
      "\n",
      "\u001b[1m> Finished chain.\u001b[0m\n",
      "La température à Paris est de 25°C et le vent souffle à une vitesse de 30 km/h.\n"
     ]
    }
   ],
   "source": [
    "import requests\n",
    "from langchain_community.chat_models import ChatOllama\n",
    "from langchain.agents import initialize_agent, Tool, AgentType\n",
    "\n",
    "# Simulation d'un appelle à une API météo\n",
    "def get_weather(city):\n",
    "    temp = 25\n",
    "    wind = 30\n",
    "    return f\"Il fait {temp}°C avec un vent à {wind} km/h.\"\n",
    "\n",
    "# On crée le Tool LangChain\n",
    "weather_tool = Tool.from_function(\n",
    "    func=get_weather,\n",
    "    name=\"get_weather\",\n",
    "    description=\"Donne la météo actuelle pour une ville spécifiée.\"\n",
    ")\n",
    "\n",
    "# On instancie ton modèle Ollama\n",
    "#llm = ChatOllama(model=\"gemma3n:e2b\")\n",
    "#llm = ChatOllama(model=\"qwen2.5:3b\")\n",
    "llm = ChatOllama(model=\"phi4-mini:latest\")\n",
    "\n",
    "# On initialise l'agent\n",
    "agent = initialize_agent(\n",
    "    tools=[weather_tool],\n",
    "    llm=llm,\n",
    "    agent=AgentType.ZERO_SHOT_REACT_DESCRIPTION,\n",
    "    verbose=True,\n",
    "    handle_parsing_errors=True,\n",
    "    agent_kwargs={\"prefix\": \"\"\"Si tu peux répondre directement à la question (sans appeler un outil), fais-le. \n",
    "N’utilise un outil que si c’est strictement nécessaire. \n",
    "Respecte scrupuleusement ce format pour les outils :\n",
    "\n",
    "Thought: Raisonne brièvement\n",
    "Action: nom_de_l_outil\n",
    "Action Input: valeur\"\"\"}\n",
    ")\n",
    "\n",
    "# On pose une question à l'agent\n",
    "result = agent.run(\"Peux-tu me dire la météo actuelle à Paris ?\")\n",
    "print(result)"
   ]
  },
  {
   "cell_type": "code",
   "execution_count": 36,
   "id": "423ee0f0",
   "metadata": {},
   "outputs": [
    {
     "name": "stdout",
     "output_type": "stream",
     "text": [
      "\n",
      "\n",
      "\u001b[1m> Entering new AgentExecutor chain...\u001b[0m\n",
      "\u001b[32;1m\u001b[1;3mThe operation in this case is a basic arithmetic addition, which doesn't require any external tools or APIs. The result of adding two and two together can be directly computed.\n",
      "\n",
      "Action: I already know how\u001b[0m\n",
      "Observation: Invalid Format: Missing 'Action Input:' after 'Action:'\n",
      "Thought:\u001b[32;1m\u001b[1;3mQuestion: Combien font 2+2?\n",
      "Thought: This is a simple arithmetic question that doesn't require any external tools or APIs. The result of adding two and two together can be directly computed.\n",
      "\n",
      "Final Answer: 2 + 2 equals 4.\u001b[0m\n",
      "\n",
      "\u001b[1m> Finished chain.\u001b[0m\n",
      "2 + 2 equals 4.\n"
     ]
    }
   ],
   "source": [
    "result = agent.run(\"Combien font 2+2 ?\")\n",
    "print(result)"
   ]
  },
  {
   "cell_type": "markdown",
   "id": "60b20e0c",
   "metadata": {},
   "source": [
    "Analyse :\n",
    "Beaucoup de problémes soit il utilise trop l'outils soit il y a des erreurs de parsing. Pas très stable. Ou alors la réponse est en anglais."
   ]
  }
 ],
 "metadata": {
  "kernelspec": {
   "display_name": "llm_env",
   "language": "python",
   "name": "python3"
  },
  "language_info": {
   "codemirror_mode": {
    "name": "ipython",
    "version": 3
   },
   "file_extension": ".py",
   "mimetype": "text/x-python",
   "name": "python",
   "nbconvert_exporter": "python",
   "pygments_lexer": "ipython3",
   "version": "3.10.18"
  }
 },
 "nbformat": 4,
 "nbformat_minor": 5
}
